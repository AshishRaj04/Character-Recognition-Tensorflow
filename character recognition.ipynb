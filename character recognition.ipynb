{
 "cells": [
  {
   "cell_type": "markdown",
   "id": "28c07244-643d-4518-a9eb-b1ebc5bde7b3",
   "metadata": {},
   "source": [
    "## Import the required libraries"
   ]
  },
  {
   "cell_type": "code",
   "execution_count": 1,
   "id": "3b12945c-8031-4d9a-ac53-5f3595c62374",
   "metadata": {},
   "outputs": [],
   "source": [
    "# import opendatasets as od\n",
    "import numpy as np\n",
    "import pandas as pd\n",
    "import tensorflow as tf\n",
    "import matplotlib.pyplot as plt\n",
    "from tensorflow.keras.models import Sequential\n",
    "from tensorflow.keras.layers import Dense\n",
    "from tensorflow.keras.activations import linear, relu\n",
    "from tensorflow.keras.optimizers import Adam"
   ]
  },
  {
   "cell_type": "markdown",
   "id": "7d092a3b-c20b-4532-b763-52611ed5156d",
   "metadata": {},
   "source": [
    "## Utility Functions"
   ]
  },
  {
   "cell_type": "code",
   "execution_count": 2,
   "id": "5259c5ad-7d30-468b-8e14-6f36a53b1f96",
   "metadata": {},
   "outputs": [],
   "source": [
    "@tf.function\n",
    "def tensor_operator(tensor):\n",
    "    print(\"Datatype:\", tensor.dtype)\n",
    "    print(\"Number of dimention:\", tensor.ndim)\n",
    "    print(\"Shape:\", tensor.shape)"
   ]
  },
  {
   "cell_type": "markdown",
   "id": "2fa59286-444e-4e96-9c20-e1c5f9e6f100",
   "metadata": {},
   "source": [
    "## Loading the dataset"
   ]
  },
  {
   "cell_type": "code",
   "execution_count": 3,
   "id": "6a26ce8e-075b-44e0-a19f-33776d519a2f",
   "metadata": {},
   "outputs": [],
   "source": [
    "data_dir = \"english-typed-font-in-csv\""
   ]
  },
  {
   "cell_type": "code",
   "execution_count": 4,
   "id": "12ec483c-8bf7-4e69-a141-7c578e1ef449",
   "metadata": {},
   "outputs": [],
   "source": [
    "data = pd.read_csv(data_dir+\"/typedCSV.csv\")"
   ]
  },
  {
   "cell_type": "code",
   "execution_count": 5,
   "id": "f57f0468-8041-4558-8dab-5b9996e175bd",
   "metadata": {},
   "outputs": [
    {
     "name": "stdout",
     "output_type": "stream",
     "text": [
      "number of rows 62992\n",
      "number of columns 785\n"
     ]
    }
   ],
   "source": [
    "no_rows , no_cols = data.shape\n",
    "print(\"number of rows\",no_rows)\n",
    "print(\"number of columns\",no_cols)"
   ]
  },
  {
   "cell_type": "markdown",
   "id": "dad2229d-7576-4e11-a4aa-ceb9f22b91b5",
   "metadata": {},
   "source": [
    "## Data processing\n",
    "Now we are going to convert the data into\n",
    "* Numpy array\n",
    "* dataset slicing to extract the target label\n",
    "* extracting the traning data from the dataset"
   ]
  },
  {
   "cell_type": "code",
   "execution_count": 6,
   "id": "0dd8187f-a301-4ce6-9f13-a1f7b2457f6d",
   "metadata": {},
   "outputs": [],
   "source": [
    "dataset = np.array(data)"
   ]
  },
  {
   "cell_type": "code",
   "execution_count": 7,
   "id": "c0ef9fdb-6127-4066-842b-5521ea0b78c8",
   "metadata": {},
   "outputs": [],
   "source": [
    "y_train = dataset[ :,0]"
   ]
  },
  {
   "cell_type": "code",
   "execution_count": 8,
   "id": "9c3e348d-6514-4cb1-81ea-b028e9a1b40c",
   "metadata": {},
   "outputs": [],
   "source": [
    "x_train = dataset[:,1:]"
   ]
  },
  {
   "cell_type": "markdown",
   "id": "691405c5-f7ee-4fbd-9526-6e8777dd2934",
   "metadata": {},
   "source": [
    "## Visualing what we have got in the traning data\n",
    "With the help of `matplotlib` library we will see what the images are along with the lable."
   ]
  },
  {
   "cell_type": "code",
   "execution_count": 9,
   "id": "b98a8cc6-8a5b-4bcd-bd3b-c01932373425",
   "metadata": {},
   "outputs": [],
   "source": [
    "# The function will return the actual lable of the image index.\n",
    "\n",
    "def actualLable(idx):\n",
    "    if idx < 10 :\n",
    "        return str(idx)\n",
    "    elif idx < 36 :\n",
    "        return chr(idx + 55)\n",
    "    else :\n",
    "        return chr(idx + 61)"
   ]
  },
  {
   "cell_type": "code",
   "execution_count": 10,
   "id": "760dea54-b598-495e-bfed-0151d17ee528",
   "metadata": {},
   "outputs": [
    {
     "name": "stdout",
     "output_type": "stream",
     "text": [
      "0: 0\n",
      "1: 1\n",
      "2: 2\n",
      "3: 3\n",
      "4: 4\n",
      "5: 5\n",
      "6: 6\n",
      "7: 7\n",
      "8: 8\n",
      "9: 9\n",
      "10: A\n",
      "11: B\n",
      "12: C\n",
      "13: D\n",
      "14: E\n",
      "15: F\n",
      "16: G\n",
      "17: H\n",
      "18: I\n",
      "19: J\n",
      "20: K\n",
      "21: L\n",
      "22: M\n",
      "23: N\n",
      "24: O\n",
      "25: P\n",
      "26: Q\n",
      "27: R\n",
      "28: S\n",
      "29: T\n",
      "30: U\n",
      "31: V\n",
      "32: W\n",
      "33: X\n",
      "34: Y\n",
      "35: Z\n",
      "36: a\n",
      "37: b\n",
      "38: c\n",
      "39: d\n",
      "40: e\n",
      "41: f\n",
      "42: g\n",
      "43: h\n",
      "44: i\n",
      "45: j\n",
      "46: k\n",
      "47: l\n",
      "48: m\n",
      "49: n\n",
      "50: o\n",
      "51: p\n",
      "52: q\n",
      "53: r\n",
      "54: s\n",
      "55: t\n",
      "56: u\n",
      "57: v\n",
      "58: w\n",
      "59: x\n",
      "60: y\n",
      "61: z\n"
     ]
    }
   ],
   "source": [
    "for idx in range(62):\n",
    "    print(f\"{idx}: {actualLable(idx)}\")"
   ]
  },
  {
   "cell_type": "code",
   "execution_count": 11,
   "id": "241c92ba-93c5-4e48-8a1f-dd4c6a78cff5",
   "metadata": {},
   "outputs": [
    {
     "name": "stdout",
     "output_type": "stream",
     "text": [
      "778\n"
     ]
    },
    {
     "data": {
      "image/png": "[encoded data removed]",
      "text/plain": [
       "<Figure size 640x480 with 1 Axes>"
      ]
     },
     "metadata": {},
     "output_type": "display_data"
    }
   ],
   "source": [
    "m = x_train.shape[0]\n",
    "random_character_index = np.random.randint(m)\n",
    "print(random_character_index)\n",
    "pixel_array = x_train[random_character_index].reshape(28 , 28)\n",
    "plt.imshow(pixel_array , cmap = \"gray\" , vmin = 0 , vmax = 1)\n",
    "lable = actualLable(y_train[random_character_index])\n",
    "plt.title(lable)\n",
    "plt.axis(\"off\")\n",
    "plt.show()"
   ]
  },
  {
   "cell_type": "markdown",
   "id": "6979188a-000d-402b-948c-31b9bd38affc",
   "metadata": {},
   "source": [
    "## Normalizing the dataset"
   ]
  },
  {
   "cell_type": "code",
   "execution_count": 12,
   "id": "81a776df-5391-43e1-aa85-769e82d9d65b",
   "metadata": {},
   "outputs": [],
   "source": [
    "x_train = x_train / 255"
   ]
  },
  {
   "cell_type": "code",
   "execution_count": 13,
   "id": "876626db-aac6-4fc7-9ff3-9905fef6cf42",
   "metadata": {},
   "outputs": [
    {
     "name": "stdout",
     "output_type": "stream",
     "text": [
      "Datatype: <dtype: 'float64'>\n",
      "Number of dimention: 2\n",
      "Shape: (62992, 784)\n",
      "Datatype: <dtype: 'int64'>\n",
      "Number of dimention: 1\n",
      "Shape: (62992,)\n"
     ]
    }
   ],
   "source": [
    "tensor_operator(x_train)\n",
    "tensor_operator(y_train)"
   ]
  },
  {
   "cell_type": "code",
   "execution_count": 14,
   "id": "6006e7e0-e5b6-48d9-8994-61e8244e5be3",
   "metadata": {},
   "outputs": [
    {
     "name": "stdout",
     "output_type": "stream",
     "text": [
      "Datatype: <dtype: 'int64'>\n",
      "Number of dimention: 2\n",
      "Shape: (62992, 1)\n"
     ]
    },
    {
     "data": {
      "text/html": [
       "<div>\n",
       "<style scoped>\n",
       "    .dataframe tbody tr th:only-of-type {\n",
       "        vertical-align: middle;\n",
       "    }\n",
       "\n",
       "    .dataframe tbody tr th {\n",
       "        vertical-align: top;\n",
       "    }\n",
       "\n",
       "    .dataframe thead th {\n",
       "        text-align: right;\n",
       "    }\n",
       "</style>\n",
       "<table border=\"1\" class=\"dataframe\">\n",
       "  <thead>\n",
       "    <tr style=\"text-align: right;\">\n",
       "      <th></th>\n",
       "      <th>0</th>\n",
       "    </tr>\n",
       "  </thead>\n",
       "  <tbody>\n",
       "    <tr>\n",
       "      <th>0</th>\n",
       "      <td>0</td>\n",
       "    </tr>\n",
       "    <tr>\n",
       "      <th>1</th>\n",
       "      <td>0</td>\n",
       "    </tr>\n",
       "    <tr>\n",
       "      <th>2</th>\n",
       "      <td>0</td>\n",
       "    </tr>\n",
       "    <tr>\n",
       "      <th>3</th>\n",
       "      <td>0</td>\n",
       "    </tr>\n",
       "    <tr>\n",
       "      <th>4</th>\n",
       "      <td>0</td>\n",
       "    </tr>\n",
       "    <tr>\n",
       "      <th>...</th>\n",
       "      <td>...</td>\n",
       "    </tr>\n",
       "    <tr>\n",
       "      <th>62987</th>\n",
       "      <td>61</td>\n",
       "    </tr>\n",
       "    <tr>\n",
       "      <th>62988</th>\n",
       "      <td>61</td>\n",
       "    </tr>\n",
       "    <tr>\n",
       "      <th>62989</th>\n",
       "      <td>61</td>\n",
       "    </tr>\n",
       "    <tr>\n",
       "      <th>62990</th>\n",
       "      <td>61</td>\n",
       "    </tr>\n",
       "    <tr>\n",
       "      <th>62991</th>\n",
       "      <td>61</td>\n",
       "    </tr>\n",
       "  </tbody>\n",
       "</table>\n",
       "<p>62992 rows × 1 columns</p>\n",
       "</div>"
      ],
      "text/plain": [
       "        0\n",
       "0       0\n",
       "1       0\n",
       "2       0\n",
       "3       0\n",
       "4       0\n",
       "...    ..\n",
       "62987  61\n",
       "62988  61\n",
       "62989  61\n",
       "62990  61\n",
       "62991  61\n",
       "\n",
       "[62992 rows x 1 columns]"
      ]
     },
     "execution_count": 14,
     "metadata": {},
     "output_type": "execute_result"
    }
   ],
   "source": [
    "y_train = np.expand_dims(y_train, axis=1)\n",
    "tensor_operator(y_train)\n",
    "pd.DataFrame(y_train)"
   ]
  },
  {
   "cell_type": "code",
   "execution_count": 15,
   "id": "119b05ea-70d6-46ff-a88e-1f152d3fe69a",
   "metadata": {},
   "outputs": [],
   "source": [
    "normalized_dataset = np.append(y_train , x_train , axis = 1)"
   ]
  },
  {
   "cell_type": "code",
   "execution_count": 16,
   "id": "80881ec9-b32b-4ace-bc55-af981f24efac",
   "metadata": {},
   "outputs": [
    {
     "data": {
      "text/html": [
       "<div>\n",
       "<style scoped>\n",
       "    .dataframe tbody tr th:only-of-type {\n",
       "        vertical-align: middle;\n",
       "    }\n",
       "\n",
       "    .dataframe tbody tr th {\n",
       "        vertical-align: top;\n",
       "    }\n",
       "\n",
       "    .dataframe thead th {\n",
       "        text-align: right;\n",
       "    }\n",
       "</style>\n",
       "<table border=\"1\" class=\"dataframe\">\n",
       "  <thead>\n",
       "    <tr style=\"text-align: right;\">\n",
       "      <th></th>\n",
       "      <th>0</th>\n",
       "      <th>1</th>\n",
       "      <th>2</th>\n",
       "      <th>3</th>\n",
       "      <th>4</th>\n",
       "      <th>5</th>\n",
       "      <th>6</th>\n",
       "      <th>7</th>\n",
       "      <th>8</th>\n",
       "      <th>9</th>\n",
       "      <th>...</th>\n",
       "      <th>775</th>\n",
       "      <th>776</th>\n",
       "      <th>777</th>\n",
       "      <th>778</th>\n",
       "      <th>779</th>\n",
       "      <th>780</th>\n",
       "      <th>781</th>\n",
       "      <th>782</th>\n",
       "      <th>783</th>\n",
       "      <th>784</th>\n",
       "    </tr>\n",
       "  </thead>\n",
       "  <tbody>\n",
       "    <tr>\n",
       "      <th>0</th>\n",
       "      <td>0.0</td>\n",
       "      <td>1.000000</td>\n",
       "      <td>1.000000</td>\n",
       "      <td>1.000000</td>\n",
       "      <td>1.000000</td>\n",
       "      <td>1.000000</td>\n",
       "      <td>1.000000</td>\n",
       "      <td>1.000000</td>\n",
       "      <td>1.000000</td>\n",
       "      <td>0.992157</td>\n",
       "      <td>...</td>\n",
       "      <td>0.980392</td>\n",
       "      <td>1.000000</td>\n",
       "      <td>1.000000</td>\n",
       "      <td>0.984314</td>\n",
       "      <td>1.000000</td>\n",
       "      <td>1.000000</td>\n",
       "      <td>1.0</td>\n",
       "      <td>1.0</td>\n",
       "      <td>1.0</td>\n",
       "      <td>1.0</td>\n",
       "    </tr>\n",
       "    <tr>\n",
       "      <th>1</th>\n",
       "      <td>0.0</td>\n",
       "      <td>1.000000</td>\n",
       "      <td>1.000000</td>\n",
       "      <td>1.000000</td>\n",
       "      <td>1.000000</td>\n",
       "      <td>1.000000</td>\n",
       "      <td>1.000000</td>\n",
       "      <td>1.000000</td>\n",
       "      <td>1.000000</td>\n",
       "      <td>1.000000</td>\n",
       "      <td>...</td>\n",
       "      <td>0.996078</td>\n",
       "      <td>1.000000</td>\n",
       "      <td>1.000000</td>\n",
       "      <td>1.000000</td>\n",
       "      <td>0.976471</td>\n",
       "      <td>0.992157</td>\n",
       "      <td>1.0</td>\n",
       "      <td>1.0</td>\n",
       "      <td>1.0</td>\n",
       "      <td>1.0</td>\n",
       "    </tr>\n",
       "    <tr>\n",
       "      <th>2</th>\n",
       "      <td>0.0</td>\n",
       "      <td>1.000000</td>\n",
       "      <td>1.000000</td>\n",
       "      <td>1.000000</td>\n",
       "      <td>1.000000</td>\n",
       "      <td>1.000000</td>\n",
       "      <td>1.000000</td>\n",
       "      <td>1.000000</td>\n",
       "      <td>1.000000</td>\n",
       "      <td>0.996078</td>\n",
       "      <td>...</td>\n",
       "      <td>1.000000</td>\n",
       "      <td>1.000000</td>\n",
       "      <td>1.000000</td>\n",
       "      <td>1.000000</td>\n",
       "      <td>1.000000</td>\n",
       "      <td>1.000000</td>\n",
       "      <td>1.0</td>\n",
       "      <td>1.0</td>\n",
       "      <td>1.0</td>\n",
       "      <td>1.0</td>\n",
       "    </tr>\n",
       "    <tr>\n",
       "      <th>3</th>\n",
       "      <td>0.0</td>\n",
       "      <td>1.000000</td>\n",
       "      <td>1.000000</td>\n",
       "      <td>1.000000</td>\n",
       "      <td>1.000000</td>\n",
       "      <td>1.000000</td>\n",
       "      <td>1.000000</td>\n",
       "      <td>1.000000</td>\n",
       "      <td>1.000000</td>\n",
       "      <td>1.000000</td>\n",
       "      <td>...</td>\n",
       "      <td>1.000000</td>\n",
       "      <td>1.000000</td>\n",
       "      <td>1.000000</td>\n",
       "      <td>1.000000</td>\n",
       "      <td>1.000000</td>\n",
       "      <td>1.000000</td>\n",
       "      <td>1.0</td>\n",
       "      <td>1.0</td>\n",
       "      <td>1.0</td>\n",
       "      <td>1.0</td>\n",
       "    </tr>\n",
       "    <tr>\n",
       "      <th>4</th>\n",
       "      <td>0.0</td>\n",
       "      <td>1.000000</td>\n",
       "      <td>0.992157</td>\n",
       "      <td>1.000000</td>\n",
       "      <td>0.992157</td>\n",
       "      <td>0.984314</td>\n",
       "      <td>1.000000</td>\n",
       "      <td>0.996078</td>\n",
       "      <td>1.000000</td>\n",
       "      <td>1.000000</td>\n",
       "      <td>...</td>\n",
       "      <td>1.000000</td>\n",
       "      <td>1.000000</td>\n",
       "      <td>0.992157</td>\n",
       "      <td>0.992157</td>\n",
       "      <td>1.000000</td>\n",
       "      <td>1.000000</td>\n",
       "      <td>1.0</td>\n",
       "      <td>1.0</td>\n",
       "      <td>1.0</td>\n",
       "      <td>1.0</td>\n",
       "    </tr>\n",
       "    <tr>\n",
       "      <th>...</th>\n",
       "      <td>...</td>\n",
       "      <td>...</td>\n",
       "      <td>...</td>\n",
       "      <td>...</td>\n",
       "      <td>...</td>\n",
       "      <td>...</td>\n",
       "      <td>...</td>\n",
       "      <td>...</td>\n",
       "      <td>...</td>\n",
       "      <td>...</td>\n",
       "      <td>...</td>\n",
       "      <td>...</td>\n",
       "      <td>...</td>\n",
       "      <td>...</td>\n",
       "      <td>...</td>\n",
       "      <td>...</td>\n",
       "      <td>...</td>\n",
       "      <td>...</td>\n",
       "      <td>...</td>\n",
       "      <td>...</td>\n",
       "      <td>...</td>\n",
       "    </tr>\n",
       "    <tr>\n",
       "      <th>62987</th>\n",
       "      <td>61.0</td>\n",
       "      <td>1.000000</td>\n",
       "      <td>0.988235</td>\n",
       "      <td>0.996078</td>\n",
       "      <td>1.000000</td>\n",
       "      <td>0.992157</td>\n",
       "      <td>1.000000</td>\n",
       "      <td>1.000000</td>\n",
       "      <td>0.992157</td>\n",
       "      <td>1.000000</td>\n",
       "      <td>...</td>\n",
       "      <td>0.964706</td>\n",
       "      <td>1.000000</td>\n",
       "      <td>0.988235</td>\n",
       "      <td>1.000000</td>\n",
       "      <td>0.988235</td>\n",
       "      <td>1.000000</td>\n",
       "      <td>1.0</td>\n",
       "      <td>1.0</td>\n",
       "      <td>1.0</td>\n",
       "      <td>1.0</td>\n",
       "    </tr>\n",
       "    <tr>\n",
       "      <th>62988</th>\n",
       "      <td>61.0</td>\n",
       "      <td>1.000000</td>\n",
       "      <td>0.996078</td>\n",
       "      <td>0.996078</td>\n",
       "      <td>0.996078</td>\n",
       "      <td>0.992157</td>\n",
       "      <td>1.000000</td>\n",
       "      <td>0.988235</td>\n",
       "      <td>0.996078</td>\n",
       "      <td>1.000000</td>\n",
       "      <td>...</td>\n",
       "      <td>0.988235</td>\n",
       "      <td>1.000000</td>\n",
       "      <td>0.996078</td>\n",
       "      <td>0.980392</td>\n",
       "      <td>1.000000</td>\n",
       "      <td>1.000000</td>\n",
       "      <td>1.0</td>\n",
       "      <td>1.0</td>\n",
       "      <td>1.0</td>\n",
       "      <td>1.0</td>\n",
       "    </tr>\n",
       "    <tr>\n",
       "      <th>62989</th>\n",
       "      <td>61.0</td>\n",
       "      <td>1.000000</td>\n",
       "      <td>0.988235</td>\n",
       "      <td>1.000000</td>\n",
       "      <td>1.000000</td>\n",
       "      <td>0.996078</td>\n",
       "      <td>1.000000</td>\n",
       "      <td>0.996078</td>\n",
       "      <td>1.000000</td>\n",
       "      <td>0.996078</td>\n",
       "      <td>...</td>\n",
       "      <td>0.988235</td>\n",
       "      <td>1.000000</td>\n",
       "      <td>0.996078</td>\n",
       "      <td>0.980392</td>\n",
       "      <td>1.000000</td>\n",
       "      <td>1.000000</td>\n",
       "      <td>1.0</td>\n",
       "      <td>1.0</td>\n",
       "      <td>1.0</td>\n",
       "      <td>1.0</td>\n",
       "    </tr>\n",
       "    <tr>\n",
       "      <th>62990</th>\n",
       "      <td>61.0</td>\n",
       "      <td>0.988235</td>\n",
       "      <td>0.996078</td>\n",
       "      <td>1.000000</td>\n",
       "      <td>1.000000</td>\n",
       "      <td>1.000000</td>\n",
       "      <td>0.996078</td>\n",
       "      <td>1.000000</td>\n",
       "      <td>0.972549</td>\n",
       "      <td>1.000000</td>\n",
       "      <td>...</td>\n",
       "      <td>0.960784</td>\n",
       "      <td>1.000000</td>\n",
       "      <td>0.984314</td>\n",
       "      <td>1.000000</td>\n",
       "      <td>0.992157</td>\n",
       "      <td>1.000000</td>\n",
       "      <td>1.0</td>\n",
       "      <td>1.0</td>\n",
       "      <td>1.0</td>\n",
       "      <td>1.0</td>\n",
       "    </tr>\n",
       "    <tr>\n",
       "      <th>62991</th>\n",
       "      <td>61.0</td>\n",
       "      <td>1.000000</td>\n",
       "      <td>1.000000</td>\n",
       "      <td>1.000000</td>\n",
       "      <td>0.996078</td>\n",
       "      <td>1.000000</td>\n",
       "      <td>1.000000</td>\n",
       "      <td>0.996078</td>\n",
       "      <td>0.996078</td>\n",
       "      <td>1.000000</td>\n",
       "      <td>...</td>\n",
       "      <td>1.000000</td>\n",
       "      <td>0.972549</td>\n",
       "      <td>1.000000</td>\n",
       "      <td>1.000000</td>\n",
       "      <td>1.000000</td>\n",
       "      <td>1.000000</td>\n",
       "      <td>1.0</td>\n",
       "      <td>1.0</td>\n",
       "      <td>1.0</td>\n",
       "      <td>1.0</td>\n",
       "    </tr>\n",
       "  </tbody>\n",
       "</table>\n",
       "<p>62992 rows × 785 columns</p>\n",
       "</div>"
      ],
      "text/plain": [
       "        0         1         2         3         4         5         6    \\\n",
       "0       0.0  1.000000  1.000000  1.000000  1.000000  1.000000  1.000000   \n",
       "1       0.0  1.000000  1.000000  1.000000  1.000000  1.000000  1.000000   \n",
       "2       0.0  1.000000  1.000000  1.000000  1.000000  1.000000  1.000000   \n",
       "3       0.0  1.000000  1.000000  1.000000  1.000000  1.000000  1.000000   \n",
       "4       0.0  1.000000  0.992157  1.000000  0.992157  0.984314  1.000000   \n",
       "...     ...       ...       ...       ...       ...       ...       ...   \n",
       "62987  61.0  1.000000  0.988235  0.996078  1.000000  0.992157  1.000000   \n",
       "62988  61.0  1.000000  0.996078  0.996078  0.996078  0.992157  1.000000   \n",
       "62989  61.0  1.000000  0.988235  1.000000  1.000000  0.996078  1.000000   \n",
       "62990  61.0  0.988235  0.996078  1.000000  1.000000  1.000000  0.996078   \n",
       "62991  61.0  1.000000  1.000000  1.000000  0.996078  1.000000  1.000000   \n",
       "\n",
       "            7         8         9    ...       775       776       777  \\\n",
       "0      1.000000  1.000000  0.992157  ...  0.980392  1.000000  1.000000   \n",
       "1      1.000000  1.000000  1.000000  ...  0.996078  1.000000  1.000000   \n",
       "2      1.000000  1.000000  0.996078  ...  1.000000  1.000000  1.000000   \n",
       "3      1.000000  1.000000  1.000000  ...  1.000000  1.000000  1.000000   \n",
       "4      0.996078  1.000000  1.000000  ...  1.000000  1.000000  0.992157   \n",
       "...         ...       ...       ...  ...       ...       ...       ...   \n",
       "62987  1.000000  0.992157  1.000000  ...  0.964706  1.000000  0.988235   \n",
       "62988  0.988235  0.996078  1.000000  ...  0.988235  1.000000  0.996078   \n",
       "62989  0.996078  1.000000  0.996078  ...  0.988235  1.000000  0.996078   \n",
       "62990  1.000000  0.972549  1.000000  ...  0.960784  1.000000  0.984314   \n",
       "62991  0.996078  0.996078  1.000000  ...  1.000000  0.972549  1.000000   \n",
       "\n",
       "            778       779       780  781  782  783  784  \n",
       "0      0.984314  1.000000  1.000000  1.0  1.0  1.0  1.0  \n",
       "1      1.000000  0.976471  0.992157  1.0  1.0  1.0  1.0  \n",
       "2      1.000000  1.000000  1.000000  1.0  1.0  1.0  1.0  \n",
       "3      1.000000  1.000000  1.000000  1.0  1.0  1.0  1.0  \n",
       "4      0.992157  1.000000  1.000000  1.0  1.0  1.0  1.0  \n",
       "...         ...       ...       ...  ...  ...  ...  ...  \n",
       "62987  1.000000  0.988235  1.000000  1.0  1.0  1.0  1.0  \n",
       "62988  0.980392  1.000000  1.000000  1.0  1.0  1.0  1.0  \n",
       "62989  0.980392  1.000000  1.000000  1.0  1.0  1.0  1.0  \n",
       "62990  1.000000  0.992157  1.000000  1.0  1.0  1.0  1.0  \n",
       "62991  1.000000  1.000000  1.000000  1.0  1.0  1.0  1.0  \n",
       "\n",
       "[62992 rows x 785 columns]"
      ]
     },
     "execution_count": 16,
     "metadata": {},
     "output_type": "execute_result"
    }
   ],
   "source": [
    "pd.DataFrame(normalized_dataset)"
   ]
  },
  {
   "cell_type": "markdown",
   "id": "85a781ef-5a5f-420b-80b6-b99a94a361e5",
   "metadata": {},
   "source": [
    "## Spliting the dataset"
   ]
  },
  {
   "cell_type": "code",
   "execution_count": 17,
   "id": "32bda799-f1d1-40c5-a1c2-feb070acc9f7",
   "metadata": {},
   "outputs": [],
   "source": [
    "tf.random.set_seed(40)\n",
    "shuffled_dataset = tf.random.shuffle(normalized_dataset)"
   ]
  },
  {
   "cell_type": "code",
   "execution_count": 18,
   "id": "d1b45158-a3f9-45e9-815a-ed3b323e5114",
   "metadata": {},
   "outputs": [],
   "source": [
    "train_ratio = 0.9\n",
    "cv_ratio = 0.05"
   ]
  },
  {
   "cell_type": "code",
   "execution_count": 19,
   "id": "d53e78e2-6a72-444c-afd7-f4c0062ab887",
   "metadata": {},
   "outputs": [],
   "source": [
    "total_samples = len(shuffled_dataset)\n",
    "train_samples = int(total_samples * train_ratio)\n",
    "cv_samples = int(total_samples * cv_ratio)\n",
    "test_samples = int(total_samples - train_samples - cv_samples)"
   ]
  },
  {
   "cell_type": "code",
   "execution_count": 20,
   "id": "1189fffd-267d-4dd1-807a-19f3b516ab55",
   "metadata": {},
   "outputs": [],
   "source": [
    "train_set = shuffled_dataset[:train_samples]\n",
    "cv_set = shuffled_dataset[train_samples:train_samples + cv_samples]\n",
    "test_set = shuffled_dataset[train_samples + cv_samples : ]"
   ]
  },
  {
   "cell_type": "code",
   "execution_count": 21,
   "id": "cabaf3ee-bc6c-4880-b540-09125ed2b3a8",
   "metadata": {},
   "outputs": [
    {
     "name": "stdout",
     "output_type": "stream",
     "text": [
      "Training set size: 56692\n",
      "Cross-validation set size: 3149\n",
      "Test set size: 3151\n"
     ]
    }
   ],
   "source": [
    "print(\"Training set size:\", len(train_set))\n",
    "print(\"Cross-validation set size:\", len(cv_set))\n",
    "print(\"Test set size:\", len(test_set))"
   ]
  },
  {
   "cell_type": "code",
   "execution_count": 22,
   "id": "beeff3f1-eb62-4993-b920-e34ce27f62ce",
   "metadata": {},
   "outputs": [],
   "source": [
    "X_train = train_set[ :,1:]\n",
    "y_train = train_set[ :,0]\n",
    "\n",
    "X_cv = cv_set[ :, 1 :]\n",
    "y_cv = cv_set[ :,0]\n",
    "\n",
    "X_test = test_set[ :, 1 :]\n",
    "y_test = test_set[ :,0]"
   ]
  },
  {
   "cell_type": "code",
   "execution_count": 23,
   "id": "fb46daad-13d1-4b74-83a6-9bbbcdabf257",
   "metadata": {},
   "outputs": [
    {
     "data": {
      "text/plain": [
       "(<tf.Tensor: shape=(56692,), dtype=float64, numpy=array([38., 56., 41., ...,  5., 22., 30.])>,\n",
       " <tf.Tensor: shape=(56692, 784), dtype=float64, numpy=\n",
       " array([[1.        , 0.98431373, 0.98823529, ..., 1.        , 1.        ,\n",
       "         1.        ],\n",
       "        [0.99215686, 1.        , 1.        , ..., 1.        , 1.        ,\n",
       "         1.        ],\n",
       "        [1.        , 1.        , 1.        , ..., 1.        , 1.        ,\n",
       "         1.        ],\n",
       "        ...,\n",
       "        [1.        , 1.        , 1.        , ..., 1.        , 1.        ,\n",
       "         1.        ],\n",
       "        [0.99607843, 1.        , 1.        , ..., 1.        , 1.        ,\n",
       "         1.        ],\n",
       "        [1.        , 0.97647059, 1.        , ..., 1.        , 1.        ,\n",
       "         1.        ]])>)"
      ]
     },
     "execution_count": 23,
     "metadata": {},
     "output_type": "execute_result"
    }
   ],
   "source": [
    "y_train , X_train"
   ]
  },
  {
   "cell_type": "markdown",
   "id": "e15c54d4-e64f-4241-8659-6682e25e4ec3",
   "metadata": {},
   "source": [
    "## Neural Network Model"
   ]
  },
  {
   "cell_type": "code",
   "execution_count": 24,
   "id": "2f30aa7f-1786-443c-ace9-9a5d9718c838",
   "metadata": {},
   "outputs": [],
   "source": [
    "output_class = 62"
   ]
  },
  {
   "cell_type": "code",
   "execution_count": 25,
   "id": "773ef739-5424-4777-94f8-519de02fb7d5",
   "metadata": {},
   "outputs": [],
   "source": [
    "tf.random.set_seed(42)\n",
    "model = Sequential([\n",
    "    tf.keras.Input(shape = (784 , )),\n",
    "    tf.keras.layers.Flatten(),\n",
    "    Dense(units = 512 , activation = \"relu\" , name = \"layer_1\" , kernel_regularizer = tf.keras.regularizers.l2(0.01)),\n",
    "    Dense(units = 256 , activation = \"relu\" , name = \"layer_2\" , kernel_regularizer = tf.keras.regularizers.l2(0.01)),\n",
    "    Dense(units = 128 , activation = \"relu\" , name = \"layer_3\" , kernel_regularizer = tf.keras.regularizers.l2(0.01)),\n",
    "    Dense(units = output_class , activation = \"linear\" , name = \"layer_4\")\n",
    "] , name = \"Character_Recognizer\")"
   ]
  },
  {
   "cell_type": "markdown",
   "id": "386a7a0b-47d1-420f-af11-a00d93b8c4af",
   "metadata": {},
   "source": [
    "## Visualizing the model"
   ]
  },
  {
   "cell_type": "code",
   "execution_count": 26,
   "id": "54a48162-111e-4b98-a73f-5e06ddf8963f",
   "metadata": {},
   "outputs": [
    {
     "data": {
      "text/html": [
       "<pre style=\"white-space:pre;overflow-x:auto;line-height:normal;font-family:Menlo,'DejaVu Sans Mono',consolas,'Courier New',monospace\"><span style=\"font-weight: bold\">Model: \"Character_Recognizer\"</span>\n",
       "</pre>\n"
      ],
      "text/plain": [
       "\u001b[1mModel: \"Character_Recognizer\"\u001b[0m\n"
      ]
     },
     "metadata": {},
     "output_type": "display_data"
    },
    {
     "data": {
      "text/html": [
       "<pre style=\"white-space:pre;overflow-x:auto;line-height:normal;font-family:Menlo,'DejaVu Sans Mono',consolas,'Courier New',monospace\">┏━━━━━━━━━━━━━━━━━━━━━━━━━━━━━━━━━━━━━━┳━━━━━━━━━━━━━━━━━━━━━━━━━━━━━┳━━━━━━━━━━━━━━━━━┓\n",
       "┃<span style=\"font-weight: bold\"> Layer (type)                         </span>┃<span style=\"font-weight: bold\"> Output Shape                </span>┃<span style=\"font-weight: bold\">         Param # </span>┃\n",
       "┡━━━━━━━━━━━━━━━━━━━━━━━━━━━━━━━━━━━━━━╇━━━━━━━━━━━━━━━━━━━━━━━━━━━━━╇━━━━━━━━━━━━━━━━━┩\n",
       "│ flatten (<span style=\"color: #0087ff; text-decoration-color: #0087ff\">Flatten</span>)                    │ (<span style=\"color: #00d7ff; text-decoration-color: #00d7ff\">None</span>, <span style=\"color: #00af00; text-decoration-color: #00af00\">784</span>)                 │               <span style=\"color: #00af00; text-decoration-color: #00af00\">0</span> │\n",
       "├──────────────────────────────────────┼─────────────────────────────┼─────────────────┤\n",
       "│ layer_1 (<span style=\"color: #0087ff; text-decoration-color: #0087ff\">Dense</span>)                      │ (<span style=\"color: #00d7ff; text-decoration-color: #00d7ff\">None</span>, <span style=\"color: #00af00; text-decoration-color: #00af00\">512</span>)                 │         <span style=\"color: #00af00; text-decoration-color: #00af00\">401,920</span> │\n",
       "├──────────────────────────────────────┼─────────────────────────────┼─────────────────┤\n",
       "│ layer_2 (<span style=\"color: #0087ff; text-decoration-color: #0087ff\">Dense</span>)                      │ (<span style=\"color: #00d7ff; text-decoration-color: #00d7ff\">None</span>, <span style=\"color: #00af00; text-decoration-color: #00af00\">256</span>)                 │         <span style=\"color: #00af00; text-decoration-color: #00af00\">131,328</span> │\n",
       "├──────────────────────────────────────┼─────────────────────────────┼─────────────────┤\n",
       "│ layer_3 (<span style=\"color: #0087ff; text-decoration-color: #0087ff\">Dense</span>)                      │ (<span style=\"color: #00d7ff; text-decoration-color: #00d7ff\">None</span>, <span style=\"color: #00af00; text-decoration-color: #00af00\">128</span>)                 │          <span style=\"color: #00af00; text-decoration-color: #00af00\">32,896</span> │\n",
       "├──────────────────────────────────────┼─────────────────────────────┼─────────────────┤\n",
       "│ layer_4 (<span style=\"color: #0087ff; text-decoration-color: #0087ff\">Dense</span>)                      │ (<span style=\"color: #00d7ff; text-decoration-color: #00d7ff\">None</span>, <span style=\"color: #00af00; text-decoration-color: #00af00\">62</span>)                  │           <span style=\"color: #00af00; text-decoration-color: #00af00\">7,998</span> │\n",
       "└──────────────────────────────────────┴─────────────────────────────┴─────────────────┘\n",
       "</pre>\n"
      ],
      "text/plain": [
       "┏━━━━━━━━━━━━━━━━━━━━━━━━━━━━━━━━━━━━━━┳━━━━━━━━━━━━━━━━━━━━━━━━━━━━━┳━━━━━━━━━━━━━━━━━┓\n",
       "┃\u001b[1m \u001b[0m\u001b[1mLayer (type)                        \u001b[0m\u001b[1m \u001b[0m┃\u001b[1m \u001b[0m\u001b[1mOutput Shape               \u001b[0m\u001b[1m \u001b[0m┃\u001b[1m \u001b[0m\u001b[1m        Param #\u001b[0m\u001b[1m \u001b[0m┃\n",
       "┡━━━━━━━━━━━━━━━━━━━━━━━━━━━━━━━━━━━━━━╇━━━━━━━━━━━━━━━━━━━━━━━━━━━━━╇━━━━━━━━━━━━━━━━━┩\n",
       "│ flatten (\u001b[38;5;33mFlatten\u001b[0m)                    │ (\u001b[38;5;45mNone\u001b[0m, \u001b[38;5;34m784\u001b[0m)                 │               \u001b[38;5;34m0\u001b[0m │\n",
       "├──────────────────────────────────────┼─────────────────────────────┼─────────────────┤\n",
       "│ layer_1 (\u001b[38;5;33mDense\u001b[0m)                      │ (\u001b[38;5;45mNone\u001b[0m, \u001b[38;5;34m512\u001b[0m)                 │         \u001b[38;5;34m401,920\u001b[0m │\n",
       "├──────────────────────────────────────┼─────────────────────────────┼─────────────────┤\n",
       "│ layer_2 (\u001b[38;5;33mDense\u001b[0m)                      │ (\u001b[38;5;45mNone\u001b[0m, \u001b[38;5;34m256\u001b[0m)                 │         \u001b[38;5;34m131,328\u001b[0m │\n",
       "├──────────────────────────────────────┼─────────────────────────────┼─────────────────┤\n",
       "│ layer_3 (\u001b[38;5;33mDense\u001b[0m)                      │ (\u001b[38;5;45mNone\u001b[0m, \u001b[38;5;34m128\u001b[0m)                 │          \u001b[38;5;34m32,896\u001b[0m │\n",
       "├──────────────────────────────────────┼─────────────────────────────┼─────────────────┤\n",
       "│ layer_4 (\u001b[38;5;33mDense\u001b[0m)                      │ (\u001b[38;5;45mNone\u001b[0m, \u001b[38;5;34m62\u001b[0m)                  │           \u001b[38;5;34m7,998\u001b[0m │\n",
       "└──────────────────────────────────────┴─────────────────────────────┴─────────────────┘\n"
      ]
     },
     "metadata": {},
     "output_type": "display_data"
    },
    {
     "data": {
      "text/html": [
       "<pre style=\"white-space:pre;overflow-x:auto;line-height:normal;font-family:Menlo,'DejaVu Sans Mono',consolas,'Courier New',monospace\"><span style=\"font-weight: bold\"> Total params: </span><span style=\"color: #00af00; text-decoration-color: #00af00\">574,142</span> (2.19 MB)\n",
       "</pre>\n"
      ],
      "text/plain": [
       "\u001b[1m Total params: \u001b[0m\u001b[38;5;34m574,142\u001b[0m (2.19 MB)\n"
      ]
     },
     "metadata": {},
     "output_type": "display_data"
    },
    {
     "data": {
      "text/html": [
       "<pre style=\"white-space:pre;overflow-x:auto;line-height:normal;font-family:Menlo,'DejaVu Sans Mono',consolas,'Courier New',monospace\"><span style=\"font-weight: bold\"> Trainable params: </span><span style=\"color: #00af00; text-decoration-color: #00af00\">574,142</span> (2.19 MB)\n",
       "</pre>\n"
      ],
      "text/plain": [
       "\u001b[1m Trainable params: \u001b[0m\u001b[38;5;34m574,142\u001b[0m (2.19 MB)\n"
      ]
     },
     "metadata": {},
     "output_type": "display_data"
    },
    {
     "data": {
      "text/html": [
       "<pre style=\"white-space:pre;overflow-x:auto;line-height:normal;font-family:Menlo,'DejaVu Sans Mono',consolas,'Courier New',monospace\"><span style=\"font-weight: bold\"> Non-trainable params: </span><span style=\"color: #00af00; text-decoration-color: #00af00\">0</span> (0.00 B)\n",
       "</pre>\n"
      ],
      "text/plain": [
       "\u001b[1m Non-trainable params: \u001b[0m\u001b[38;5;34m0\u001b[0m (0.00 B)\n"
      ]
     },
     "metadata": {},
     "output_type": "display_data"
    }
   ],
   "source": [
    "model.summary()"
   ]
  },
  {
   "cell_type": "markdown",
   "id": "bd56336a-5674-4efe-91a8-fcca26c25ba5",
   "metadata": {},
   "source": [
    "## Compiling the model"
   ]
  },
  {
   "cell_type": "code",
   "execution_count": 27,
   "id": "f0f17da2-0214-44be-ac9e-236c33a5e8a0",
   "metadata": {},
   "outputs": [],
   "source": [
    "model.compile(\n",
    "    loss = tf.keras.losses.SparseCategoricalCrossentropy(from_logits = True),\n",
    "    optimizer = Adam(learning_rate = 0.0001),\n",
    "    metrics = [\"accuracy\"]\n",
    ")"
   ]
  },
  {
   "cell_type": "markdown",
   "id": "2697eb65-a34a-43d6-bb49-4c791198673c",
   "metadata": {},
   "source": [
    "## Traning our model on the dataset"
   ]
  },
  {
   "cell_type": "code",
   "execution_count": 28,
   "id": "22f36e20-4584-43e9-8ffb-3c84ba877663",
   "metadata": {},
   "outputs": [
    {
     "name": "stdout",
     "output_type": "stream",
     "text": [
      "Epoch 1/5\n",
      "\u001b[1m1772/1772\u001b[0m \u001b[32m━━━━━━━━━━━━━━━━━━━━\u001b[0m\u001b[37m\u001b[0m \u001b[1m24s\u001b[0m 13ms/step - accuracy: 0.3344 - loss: 9.7834 - val_accuracy: 0.6500 - val_loss: 4.3989\n",
      "Epoch 2/5\n",
      "\u001b[1m1772/1772\u001b[0m \u001b[32m━━━━━━━━━━━━━━━━━━━━\u001b[0m\u001b[37m\u001b[0m \u001b[1m21s\u001b[0m 12ms/step - accuracy: 0.6831 - loss: 3.9612 - val_accuracy: 0.6970 - val_loss: 3.0641\n",
      "Epoch 3/5\n",
      "\u001b[1m1772/1772\u001b[0m \u001b[32m━━━━━━━━━━━━━━━━━━━━\u001b[0m\u001b[37m\u001b[0m \u001b[1m21s\u001b[0m 12ms/step - accuracy: 0.7135 - loss: 2.8885 - val_accuracy: 0.7145 - val_loss: 2.4741\n",
      "Epoch 4/5\n",
      "\u001b[1m1772/1772\u001b[0m \u001b[32m━━━━━━━━━━━━━━━━━━━━\u001b[0m\u001b[37m\u001b[0m \u001b[1m21s\u001b[0m 12ms/step - accuracy: 0.7261 - loss: 2.3966 - val_accuracy: 0.7320 - val_loss: 2.1679\n",
      "Epoch 5/5\n",
      "\u001b[1m1772/1772\u001b[0m \u001b[32m━━━━━━━━━━━━━━━━━━━━\u001b[0m\u001b[37m\u001b[0m \u001b[1m20s\u001b[0m 11ms/step - accuracy: 0.7335 - loss: 2.1304 - val_accuracy: 0.7406 - val_loss: 1.9860\n"
     ]
    }
   ],
   "source": [
    "history = model.fit(X_train , y_train , epochs = 5 , validation_data = (X_cv , y_cv))"
   ]
  },
  {
   "cell_type": "markdown",
   "id": "d67ec1ab-7308-4c6e-bd8f-85aa8f9a7f76",
   "metadata": {},
   "source": [
    "## Model Prediction"
   ]
  },
  {
   "cell_type": "code",
   "execution_count": 29,
   "id": "1b15ba74-e865-4254-aeda-c4a1bf47ceca",
   "metadata": {},
   "outputs": [],
   "source": [
    "def predictionFunction(input):\n",
    "    logits = model.predict(input)\n",
    "    prediction = tf.nn.softmax(logits).numpy()\n",
    "    print(f\"Sum of the probabilities :{tf.math.reduce_sum(prediction[0])}\")\n",
    "    return prediction"
   ]
  },
  {
   "cell_type": "code",
   "execution_count": 30,
   "id": "94a99a69-69ac-489d-a2d0-fa3fcf87603e",
   "metadata": {},
   "outputs": [],
   "source": [
    "def predictionArrayFunction(prediction):\n",
    "    predicted_categories = []\n",
    "\n",
    "    for i in range(len(prediction)):\n",
    "      predicted_category = np.argmax(prediction[i])\n",
    "      predicted_categories.append(predicted_category)\n",
    "\n",
    "    predicted_categories_array = np.array(predicted_categories)\n",
    "\n",
    "    return predicted_categories_array"
   ]
  },
  {
   "cell_type": "code",
   "execution_count": 31,
   "id": "0f71aee4-5d9b-44a6-b904-b2f3f610194b",
   "metadata": {},
   "outputs": [],
   "source": [
    "def comparisonFunction(original_categories_array , predicted_categories_array):\n",
    "    # Compare elements and count matches and mismatches\n",
    "    num_matches = np.sum(predicted_categories_array == original_categories_array)\n",
    "    num_mismatches = len(predicted_categories_array) - num_matches\n",
    "    \n",
    "    # Calculate accuracy (optional)\n",
    "    accuracy = num_matches / len(predicted_categories_array) * 100\n",
    "    \n",
    "    print(f\"Number of matches: {num_matches}\")\n",
    "    print(f\"Number of mismatches: {num_mismatches}\")\n",
    "    print(f\"Accuracy (if applicable): {accuracy:.2f}%\")"
   ]
  },
  {
   "cell_type": "code",
   "execution_count": 32,
   "id": "404ff1b0-a37e-4eb8-aace-9f2952b0dbc5",
   "metadata": {},
   "outputs": [
    {
     "name": "stdout",
     "output_type": "stream",
     "text": [
      "\u001b[1m1772/1772\u001b[0m \u001b[32m━━━━━━━━━━━━━━━━━━━━\u001b[0m\u001b[37m\u001b[0m \u001b[1m3s\u001b[0m 2ms/step\n",
      "Sum of the probabilities :1.0\n"
     ]
    }
   ],
   "source": [
    "train_prediction = predictionFunction(X_train)"
   ]
  },
  {
   "cell_type": "code",
   "execution_count": 33,
   "id": "f05e2874-f946-4815-abb5-0db8dbd990a9",
   "metadata": {},
   "outputs": [
    {
     "name": "stdout",
     "output_type": "stream",
     "text": [
      "\u001b[1m99/99\u001b[0m \u001b[32m━━━━━━━━━━━━━━━━━━━━\u001b[0m\u001b[37m\u001b[0m \u001b[1m0s\u001b[0m 3ms/step\n",
      "Sum of the probabilities :1.0\n"
     ]
    }
   ],
   "source": [
    "cv_prediction = predictionFunction(X_cv)"
   ]
  },
  {
   "cell_type": "code",
   "execution_count": 34,
   "id": "5de506fb-2dec-4f43-9fd7-136ab87c3854",
   "metadata": {},
   "outputs": [
    {
     "name": "stdout",
     "output_type": "stream",
     "text": [
      "\u001b[1m99/99\u001b[0m \u001b[32m━━━━━━━━━━━━━━━━━━━━\u001b[0m\u001b[37m\u001b[0m \u001b[1m0s\u001b[0m 2ms/step\n",
      "Sum of the probabilities :1.0\n"
     ]
    }
   ],
   "source": [
    "test_prediction = predictionFunction(X_test)"
   ]
  },
  {
   "cell_type": "code",
   "execution_count": 35,
   "id": "c1451dd1-0e09-4ab0-a95c-aedbe38baf96",
   "metadata": {},
   "outputs": [],
   "source": [
    "train_predicted_categories_array = predictionArrayFunction(train_prediction)"
   ]
  },
  {
   "cell_type": "code",
   "execution_count": 36,
   "id": "c46e0896-6c14-4166-9a3c-bc2b89d6fd92",
   "metadata": {},
   "outputs": [],
   "source": [
    "cv_predicted_categories_array = predictionArrayFunction(cv_prediction)"
   ]
  },
  {
   "cell_type": "code",
   "execution_count": 37,
   "id": "7a42b821-5ea3-48ee-893c-fedcd102fac4",
   "metadata": {},
   "outputs": [],
   "source": [
    "test_predicted_categories_array = predictionArrayFunction(test_prediction)"
   ]
  },
  {
   "cell_type": "code",
   "execution_count": 38,
   "id": "0b3e3d6b-3ea4-449d-8644-5d1559bc9a29",
   "metadata": {},
   "outputs": [],
   "source": [
    "original_category_train_array = np.array(y_train)\n",
    "original_category_cv_array = np.array(y_cv)\n",
    "original_category_test_array = np.array(y_test)"
   ]
  },
  {
   "cell_type": "code",
   "execution_count": 39,
   "id": "91c896da-4485-4b7c-bfba-ac5c11df7234",
   "metadata": {},
   "outputs": [
    {
     "name": "stdout",
     "output_type": "stream",
     "text": [
      "Number of matches: 42424\n",
      "Number of mismatches: 14268\n",
      "Accuracy (if applicable): 74.83%\n",
      "Number of matches: 2332\n",
      "Number of mismatches: 817\n",
      "Accuracy (if applicable): 74.06%\n",
      "Number of matches: 2369\n",
      "Number of mismatches: 782\n",
      "Accuracy (if applicable): 75.18%\n"
     ]
    }
   ],
   "source": [
    "comparisonFunction(original_category_train_array , train_predicted_categories_array)\n",
    "comparisonFunction(original_category_cv_array , cv_predicted_categories_array)\n",
    "comparisonFunction(original_category_test_array , test_predicted_categories_array)"
   ]
  },
  {
   "cell_type": "markdown",
   "id": "923d14d3-7c2c-4d27-af16-21127b2f92b4",
   "metadata": {},
   "source": [
    "## Saving the model"
   ]
  },
  {
   "cell_type": "markdown",
   "id": "96d74f3f-6752-403f-a11e-87edea697da6",
   "metadata": {},
   "source": [
    "### SavedModel Format"
   ]
  },
  {
   "cell_type": "markdown",
   "id": "cf2c93a3-30b1-4c82-bb6e-04c3644cafae",
   "metadata": {},
   "source": [
    "### HDF5 Format"
   ]
  },
  {
   "cell_type": "code",
   "execution_count": 40,
   "id": "9774789d-2736-4e8e-a3b1-cf390d755332",
   "metadata": {},
   "outputs": [
    {
     "name": "stderr",
     "output_type": "stream",
     "text": [
      "WARNING:absl:You are saving your model as an HDF5 file via `model.save()` or `keras.saving.save_model(model)`. This file format is considered legacy. We recommend using instead the native Keras format, e.g. `model.save('my_model.keras')` or `keras.saving.save_model(model, 'my_model.keras')`. \n"
     ]
    }
   ],
   "source": [
    "model.save('digit_recognition_model.h5')"
   ]
  },
  {
   "cell_type": "markdown",
   "id": "3cb9312e-4e0c-48bd-a885-a957039a6eb1",
   "metadata": {},
   "source": [
    "### Keras Format"
   ]
  },
  {
   "cell_type": "code",
   "execution_count": 41,
   "id": "48b3fc91-4ca6-4c59-9f94-763be6825b47",
   "metadata": {},
   "outputs": [],
   "source": [
    "model.save('digit_recognition_model.keras')"
   ]
  },
  {
   "cell_type": "code",
   "execution_count": null,
   "id": "a6d34ed0-7a06-4885-97c6-577c7fa8476a",
   "metadata": {},
   "outputs": [],
   "source": []
  }
 ],
 "metadata": {
  "kernelspec": {
   "display_name": "Python 3 (ipykernel)",
   "language": "python",
   "name": "python3"
  },
  "language_info": {
   "codemirror_mode": {
    "name": "ipython",
    "version": 3
   },
   "file_extension": ".py",
   "mimetype": "text/x-python",
   "name": "python",
   "nbconvert_exporter": "python",
   "pygments_lexer": "ipython3",
   "version": "3.12.1"
  }
 },
 "nbformat": 4,
 "nbformat_minor": 5
}
